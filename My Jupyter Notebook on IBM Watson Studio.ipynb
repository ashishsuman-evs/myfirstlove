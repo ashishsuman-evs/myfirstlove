{
  "metadata": {
    "kernelspec": {
      "name": "python",
      "display_name": "Pyolite",
      "language": "python"
    },
    "language_info": {
      "codemirror_mode": {
        "name": "python",
        "version": 3
      },
      "file_extension": ".py",
      "mimetype": "text/x-python",
      "name": "python",
      "nbconvert_exporter": "python",
      "pygments_lexer": "ipython3",
      "version": "3.8"
    }
  },
  "nbformat_minor": 4,
  "nbformat": 4,
  "cells": [
    {
      "cell_type": "markdown",
      "source": "# My Jupyter Notebook on IBM Watson Studio",
      "metadata": {}
    },
    {
      "cell_type": "markdown",
      "source": "**Ashish Suman**\n\nData Scientist",
      "metadata": {}
    },
    {
      "cell_type": "markdown",
      "source": "*I am interested in data science because I feel, I love it not as a work but as my passion. Also, I am logical, structured and after having understanding of data, tools and best practices through this course.*",
      "metadata": {}
    },
    {
      "cell_type": "markdown",
      "source": "### Program to generate a random number between 1 and 250000",
      "metadata": {}
    },
    {
      "cell_type": "code",
      "source": "import random\n\nprint(random.randint(1,250000))",
      "metadata": {
        "trusted": true
      },
      "execution_count": 2,
      "outputs": [
        {
          "name": "stdout",
          "text": "244115\n",
          "output_type": "stream"
        }
      ]
    },
    {
      "cell_type": "markdown",
      "source": "##### Using Markdown or HTML, this cell must include at least 3 of the following: horizontal rule, bulleted list, numbered list, tables, hyperlinks, images, code/syntax highlighting, blocked quotes, strikethrough.\n\n<table>\n  <tr>\n      <td><b>RANK</b></td>\n    <td><b>NAME</b></td>\n    <td><b>NET WORTH</b></td>\n    <td><b>AGE</b></td>\n    <td><b>COUNTRY/TERRITORY</b></td>\n    <td><b>SOURCE</b></td>\n    <td><b>INDUSTRY</b></td>\n  </tr>\n  <tr>\n    <td>1</td>\n    <td>Elon Musk</td>\n    <td>Dollar 219 B</td>\n    <td>50</td>\n    <td>United States</td>\n    <td>Tesla, SpaceX</td>\n    <td>Automotive</td>\n  </tr>\n  <tr>\n    <td>        2        </td>\n    <td>        Jeff Bezos        </td>\n    <td>       Dollar 171 B        </td>\n    <td>        58        </td>\n    <td>        United States        </td>\n    <td>        Amazon        </td>\n    <td>        Technology        </td>\n  </tr>\n  <tr>\n    <td>        3        </td>\n    <td>        Bernard Arnault and family        </td>\n    <td>        Dollar 158 B        </td>\n    <td>        73        </td>\n    <td>        France        </td>\n    <td>        LVMH        </td>\n    <td>        Fashion and Retail        </td>\n  </tr>\n</table>\n\n\n* <a href=\"https://github.com/ashishsuman-evs/myfirstlove/blob/5a99a99ec0aeb455369faabafebc412e020247c0/My%20Jupyter%20Notebook%20on%20IBM%20Watson%20Studio.ipynb">Link to this Jupyter Notebook</a>",
      "metadata": {}
    }
  ]
}
